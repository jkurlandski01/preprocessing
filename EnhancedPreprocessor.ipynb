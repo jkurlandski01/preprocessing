{
 "cells": [
  {
   "cell_type": "markdown",
   "metadata": {},
   "source": [
    "# EnhancedPreprocessor"
   ]
  },
  {
   "cell_type": "markdown",
   "metadata": {},
   "source": [
    "Here we demonstrate a class for tokenization and lemmatization that offers:\n",
    "\n",
    "- Fairly fast tokenization and lemmatization.\n",
    "- A stop word list designed for the tool's default output.\n",
    "- The option to \"lemmatize\" the parts of an English contraction, e.g. turn *haven't* into the tokens *have* and *not*.\n",
    "- The option of, during tokenization, not splitting digits which are separated only by punctuation, thus preserving IP addresses, telephone numbers and times of day.\n",
    "- The ability to split or retain *'s* (apostrophe 's'), according to the user's requirements.\n",
    "- The ability to deal with punctuation, stop words, and telephone numbers in one of three ways: treat them like any other input; remove them from the output completely; replace them with the dummy tokens '\\_PUNC\\_', '\\_STOP\\_' and '\\_TEL\\_'.\n",
    "- Extensibility, so that users can treat other types of strings in the same manner as punctuation, stop words and telephone numbers. For example, you may want to identify URLs as such, rather than split them up into tokens split by punctuation..\n",
    "- Acceptable, if not perfect, lemmatization of nouns and some verb forms."
   ]
  },
  {
   "cell_type": "markdown",
   "metadata": {},
   "source": [
    "**SimplePreprocessor**. If you do not need the bells and whistles, check out SimplePreprocessor, EnhancedPreprocessor's streamlined, and consequently faster, model. Because it offers the user few options, I was able to write the code to be more efficient. The two preprocessors use the same stop word list and NLTK WordNetLemmatizer. The [SimplePreprocessor notebook](./SimplePreprocessor.ipynb) has extensive notes on the stop word list, and describes some issues with the lemmatizer."
   ]
  },
  {
   "cell_type": "markdown",
   "metadata": {},
   "source": [
    "## Motivation\n",
    "\n",
    "The EnhancedPreprocessor class is designed for use cases like the following."
   ]
  },
  {
   "cell_type": "markdown",
   "metadata": {},
   "source": [
    "**Text categorization.** \n",
    "\n",
    "Let's consider document preprocessing&mdash;that is, tokenization and lemmatization&mdash;for the use case of text categorization. Suppose that one class of documents in your corpus consists of many telephone numbers, and that another class has tables containing many other kinds of numbers.\n",
    "\n",
    "Some tokenizers eliminate numbers completely. Others split telephone numbers by spaces or punctuation. So, for example, the (American-style) telephone number of *973-449-3636* will be split into three tokens: *973*, *449* and *3636*. And *(973)449-3636* might be tokenized in the same way, or the first number might be tokenized into *(973)*.\n",
    "\n",
    "If your tokenizer behaves like either of these, you're going to have to hope that these two document types have some other distinguishing characteristic, or your categorization will fail.\n",
    "\n",
    "Suppose also that after the first round of categorization you realized that your classifier might perform better if it could identify URLs as URLs rather than a series of separate tokens such as: https, forecast, weather, gov, MapClick, php, lat, =, 40, ., 7835, &, lon, =, -, 74, ., 4797, #, ., XLRcHy, -, ZOt9. You would have to rewrite your tokenizer. But it would be nice if the tokenizer you were already using had been designed for this kind of extensibility."
   ]
  },
  {
   "cell_type": "markdown",
   "metadata": {},
   "source": [
    "**N-grams**\n",
    "\n",
    "Many tokenizers remove stop words. This is often useful, but it's not very good for research involving n-grams, since your n-grams will include words that, in your corpus, were separated by stop words. \n",
    "\n",
    "You could create a separate tokenizer for tasks involving n-grams, but it would be easier to use a tokenizer that offered options that would let it be used for n-grams with no extra work."
   ]
  },
  {
   "cell_type": "markdown",
   "metadata": {},
   "source": [
    "## EnhancedPreprocessor code\n",
    "\n",
    "EnhancedPreprocessor offers a lot of functionality, and the code is consequently quite complex. In lieu of reading the code first thing, it might be better to \"prime\" yourself by going through the examples in the [Using the tokenizer](#usingthetokenizer) and the [Using the class](#usingtheclass) sections which follows."
   ]
  },
  {
   "cell_type": "markdown",
   "metadata": {},
   "source": [
    "### Stop word list\n",
    "\n",
    "EnhancedPreprocessor and its sister class SimplePreprocessor share the same stop word list. The list can be re-generated at any time, which I believe helps avoid the too-frequent divergence of stop word lists and preprocessing functions which often seems to occur. See the [SimplePreprocessor notebook](./SimplePreprocessor.ipynb) for details."
   ]
  },
  {
   "cell_type": "code",
   "execution_count": 1,
   "metadata": {},
   "outputs": [],
   "source": [
    "from spacy.lang.en.stop_words import STOP_WORDS as SpacyStopWords\n",
    "from sklearn.feature_extraction.stop_words import ENGLISH_STOP_WORDS as SklearnStopWords\n",
    "\n",
    "def generateStopWords():\n",
    "    \"\"\"\n",
    "    Generate stopwords, following a pre-determined routine. \n",
    "    :return: a set of strings\n",
    "    \"\"\"\n",
    "    # Start with intersection of Spacy and sklearn stop word lists.\n",
    "    spacySet = set(SpacyStopWords)\n",
    "    sklearnSet = set(SklearnStopWords)\n",
    "    tempStopWords = spacySet.intersection(sklearnSet)\n",
    "\n",
    "    # Add verb forms of common verbs which are not already in the list.\n",
    "    forms = ['gets', 'getting', 'got', 'gotten',\n",
    "             'goes', 'going', 'gone', 'went',\n",
    "             'does', 'doing', 'did',\n",
    "             'having',\n",
    "             'make', 'makes', 'making',\n",
    "             'takes', 'taking', 'took']\n",
    "    tempStopWords = tempStopWords.union(forms)\n",
    "\n",
    "    # Assume contractions are split on the apostrophe. Add the left- and right-hand sides.\n",
    "    lefts = ['aren', 'couldn', 'didn', 'doesn', 'don', 'hadn', 'hasn', 'haven', 'isn', 'shouldn',\n",
    "             'wasn', 'weren', 'won', 'wouldn']\n",
    "    rights = ['d', 'll', 'm', 're', 's', 't', 've']\n",
    "    # Don't include colloquial contractions such as these: ain't, cause, gimme, gonna, gotta, y'all\n",
    "    # Don't include relatively uncommon contractions such as these: daren't, mayn't, needn't, 'tis, \n",
    "    # 'twas\n",
    "    contractions = lefts + rights\n",
    "    tempStopWords = tempStopWords.union(contractions)\n",
    "\n",
    "    # Remove from the list very uncommon words.\n",
    "    uncommonWords = \"elsewhere hence hereafter hereby herein hereupon latterly meanwhile thence thereafter \"\n",
    "    uncommonWords += \"thereby therein thereupon whence whereafter whereas whereby wherein whereupon whither whom\"\n",
    "    uncommonWordSet = set(uncommonWords.split(' '))\n",
    "    tempStopWords = tempStopWords - uncommonWordSet\n",
    "\n",
    "    return tempStopWords"
   ]
  },
  {
   "cell_type": "code",
   "execution_count": 2,
   "metadata": {},
   "outputs": [],
   "source": [
    "StopWords = generateStopWords()"
   ]
  },
  {
   "cell_type": "markdown",
   "metadata": {},
   "source": [
    "### Tokenizer code\n",
    "\n",
    "EnhancedPreprocessor's tokenization is performed by two functions: tokenize( ) and encodeDigitStrs( ). The former is the entry point, and it calls the latter.\n",
    "\n",
    "If all you need is tokenization, tokenizer( ) can be called directly, without creating an EnhancedPreprocessor object."
   ]
  },
  {
   "cell_type": "code",
   "execution_count": 3,
   "metadata": {},
   "outputs": [],
   "source": [
    "import html\n",
    "from enum import Enum\n",
    "import regex as re\n",
    "import unicodedata as ud\n",
    "\n",
    "from nltk import WordNetLemmatizer"
   ]
  },
  {
   "cell_type": "code",
   "execution_count": 4,
   "metadata": {},
   "outputs": [],
   "source": [
    "def encodeDigitStrs(inStr, prefix):\n",
    "    \"\"\"\n",
    "    Encode the given strings digit sub-strings so that they won't be split during tokenization.\n",
    "    :param inStr: a string, which may or may not contain digit sub-strings\n",
    "    :param prefix: a string which would be very unlikely to be found in normal text, which\n",
    "    will be inserted into the given string so that digit strings will not be tokenized\n",
    "    :return: a string in which the digit sub-strings have been \"encoded\" so that\n",
    "    they will not be tokenized\n",
    "    \"\"\"\n",
    "    # Punctuation which is allowed to join strings of digits is given in\n",
    "    # this part of the regex: \"[,-.:]\"\n",
    "    digitStrRegex = r'(\\d+(?:[,-.:]+\\d+)*)'\n",
    "\n",
    "    matchStrs = re.finditer(digitStrRegex, inStr)\n",
    "    newStr = ''\n",
    "    lastIdx = 0\n",
    "    \n",
    "    for matchStr in matchStrs:\n",
    "        matchStrt = matchStr.regs[0][0]\n",
    "        matchEnd = matchStr.regs[0][1]\n",
    "\n",
    "        # Append from the end of the last match to the start of this one.\n",
    "        newStr += inStr[lastIdx:matchStrt]\n",
    "\n",
    "        # Append the contents of this match, modified.\n",
    "        newMatch = inStr[matchStrt:matchEnd]\n",
    "        # Replace the punctuation with words that won't be tokenized.\n",
    "        newMatch = newMatch.replace(',', '_comma_')\n",
    "        newMatch = newMatch.replace('-', '_hyphen_')\n",
    "        newMatch = newMatch.replace('.', '_period_')\n",
    "        newMatch = newMatch.replace(':', '_colon_')\n",
    "        newStr += prefix + newMatch\n",
    "\n",
    "        lastIdx = matchEnd\n",
    "    # Append what remains.\n",
    "    newStr += inStr[lastIdx:]\n",
    "\n",
    "    return newStr\n",
    "\n",
    "\n",
    "def tokenize(inputStr, bLowercase=True, bLemmatizeContractions=False, bPreserveApostropheS=False,\n",
    "             bPreserveDigitStrings=False, minTokenLen=1):\n",
    "    \"\"\"\n",
    "    Split a string into tokens.\n",
    "    Offers special behavior if any of the parameters is set to a non-default\n",
    "    value--but note that some of this behavior assumes that text coming in has been\n",
    "    lowercased.\n",
    "    See the __init__( ) method of CorpusPreprocessor for documentation on this\n",
    "    function's parameters.\n",
    "    :param inputStr:\n",
    "    :param bLowercase:\n",
    "    :param bLemmatizeContractions:\n",
    "    :param bPreserveApostropheS:\n",
    "    :param bPreserveDigitStrings:\n",
    "    :param minTokenLen:\n",
    "    :return:\n",
    "    \"\"\"\n",
    "    inStr = html.unescape(inputStr)\n",
    "\n",
    "    # We defer lowercasing until after tokenization in order to maximize the quality\n",
    "    # of abbreviation tokenization.\n",
    "\n",
    "    # Avoid splitting apostrophe \"s\" by first replacing the string with\n",
    "    # something unlikely to occur in normal text.\n",
    "    if bPreserveApostropheS:\n",
    "        inStr = inStr.replace(\"'s\", \" apostrophe_s_qpwpqp\")\n",
    "        if bLowercase:\n",
    "            inStr = inStr.replace(\"'s\", \" apostrophe_s_qpwpqp\")\n",
    "        else:\n",
    "            inStr = inStr.replace(\"'S\", \" apostrophe_cap_s_qpwpqp\")\n",
    "\n",
    "    # Avoid splitting digit strings.\n",
    "    digitStrPrefix = \"digitStr_\"\n",
    "    if bPreserveDigitStrings:\n",
    "        inStr = encodeDigitStrs(inStr, digitStrPrefix)\n",
    "\n",
    "    if bLemmatizeContractions:\n",
    "        inStr = inStr.replace(\"won't\", \"will not\")\n",
    "        inStr = inStr.replace(\"shan't\", \"shall not\")\n",
    "        inStr = inStr.replace(\"n't\", \" not\")\n",
    "        inStr = inStr.replace(\"'ve\", \" have\")\n",
    "        inStr = inStr.replace(\"'m\", \" am\")\n",
    "        inStr = inStr.replace(\"'re\", \" are\")\n",
    "        # We can't replace apostrophe 's' because there's no way to tell\n",
    "        # whether it's a possessive or a contraction of \"has\".\n",
    "        # inStr = inStr.replace(\"'s\", \" has\")\n",
    "        if bLowercase:\n",
    "            inStr = inStr.replace(\"WON'T\", \"will not\")\n",
    "            inStr = inStr.replace(\"SHAN'T\", \"shall not\")\n",
    "            inStr = inStr.replace(\"N'T\", \" not\")\n",
    "            inStr = inStr.replace(\"'VE\", \" have\")\n",
    "            inStr = inStr.replace(\"'M\", \" am\")\n",
    "            inStr = inStr.replace(\"'RE\", \" are\")\n",
    "        else:\n",
    "            inStr = inStr.replace(\"WON'T\", \"WILL NOT\")\n",
    "            inStr = inStr.replace(\"SHAN'T\", \"SHALL NOT\")\n",
    "            inStr = inStr.replace(\"N'T\", \" NOT\")\n",
    "            inStr = inStr.replace(\"'VE\", \" HAVE\")\n",
    "            inStr = inStr.replace(\"'M\", \" AM\")\n",
    "            inStr = inStr.replace(\"'RE\", \" ARE\")\n",
    "\n",
    "    # The second half of this regex captures all-punctuation strings\n",
    "    # (i.e. not word character and not space).\n",
    "    # tokens = re.findall(r'\\w+|[^\\w\\s]+', inStr)\n",
    "    tokens = re.findall(r'(?:[A-Z][a-z]?[a-z]?[a-z]?\\.)+|(?:[a-z]\\.)+|\\w+|[^\\w\\s]+', inStr)\n",
    "\n",
    "    # Decode the special tokens in a single pass.\n",
    "    result = []\n",
    "    for token in tokens:\n",
    "        if bPreserveApostropheS:\n",
    "            token = token.replace(\"apostrophe_s_qpwpqp\", \"'s\")\n",
    "            token = token.replace(\"apostrophe_cap_s_qpwpqp\", \"'S\")\n",
    "        if bPreserveDigitStrings and token.startswith(digitStrPrefix):\n",
    "            token = token.replace(digitStrPrefix, '')\n",
    "            token = token.replace('_comma_', ',')\n",
    "            token = token.replace('_hyphen_', '-')\n",
    "            token = token.replace('_period_', '.')\n",
    "            token = token.replace('_colon_', ':')\n",
    "\n",
    "        if len(token) < minTokenLen:\n",
    "            continue\n",
    "\n",
    "        if bLowercase:\n",
    "            token = token.lower()\n",
    "\n",
    "        result.append(token)\n",
    "\n",
    "    return result\n"
   ]
  },
  {
   "cell_type": "markdown",
   "metadata": {},
   "source": [
    "<a name=\"usingthetokenizer\"></a>\n",
    "\n",
    "### Using the tokenizer\n",
    "\n",
    "Here we provide some sample input and output for the tokenizer."
   ]
  },
  {
   "cell_type": "markdown",
   "metadata": {},
   "source": [
    "#### bPreserveDigitStrings\n",
    "\n",
    "With bPreserveDigitStrings turned off."
   ]
  },
  {
   "cell_type": "code",
   "execution_count": 5,
   "metadata": {},
   "outputs": [
    {
     "name": "stdout",
     "output_type": "stream",
     "text": [
      "['they', 'called', 'me', 'at', '800', '-', '989', '-', '9999', 'at', '8', ':', '00', ',', 'and', 'at', '(', '973', ')', '436', '-', '7888', 'at', 'noon', '.', 'the', 'first', 'time', 'they', 'didn', \"'\", 't', 'know', 'the', 'ip', 'address', ',', 'and', 'the', 'second', 'time', 'they', 'said', 'it', 'was', '173', '.', '70', '.', '92', '.', '252', '.']\n"
     ]
    }
   ],
   "source": [
    "inputStr = \"They called me at 800-989-9999 at 8:00, and at (973)436-7888 at noon. \"\n",
    "inputStr += \"The first time they didn't know the IP address, and the second time they said \"\n",
    "inputStr += \"it was 173.70.92.252.\"\n",
    "outputTokens = tokenize(inputStr, bPreserveDigitStrings=False)\n",
    "print(outputTokens)"
   ]
  },
  {
   "cell_type": "markdown",
   "metadata": {},
   "source": [
    "With bPreserveDigitStrings turned on."
   ]
  },
  {
   "cell_type": "code",
   "execution_count": 6,
   "metadata": {},
   "outputs": [
    {
     "name": "stdout",
     "output_type": "stream",
     "text": [
      "['they', 'called', 'me', 'at', '800-989-9999', 'at', '8:00', ',', 'and', 'at', '(', '973', ')', '436-7888', 'at', 'noon', '.', 'the', 'first', 'time', 'they', 'didn', \"'\", 't', 'know', 'the', 'ip', 'address', ',', 'and', 'the', 'second', 'time', 'they', 'said', 'it', 'was', '173.70.92.252', '.']\n"
     ]
    }
   ],
   "source": [
    "outputTokens = tokenize(inputStr, bPreserveDigitStrings=True)\n",
    "print(outputTokens)"
   ]
  },
  {
   "cell_type": "markdown",
   "metadata": {},
   "source": [
    "Notice how the bPreserveDigitStrings works for times, telephone numbers and IP addresses. It also preserves numbers like *1,000* and *54.67*."
   ]
  },
  {
   "cell_type": "markdown",
   "metadata": {},
   "source": [
    "#### bLemmatizeContractions and bPreserveApostropheS\n",
    "\n",
    "With bLemmatizeContractions and bPreserveApostropheS turned off."
   ]
  },
  {
   "cell_type": "code",
   "execution_count": 7,
   "metadata": {},
   "outputs": [
    {
     "name": "stdout",
     "output_type": "stream",
     "text": [
      "['i', \"'\", 'm', 'sure', 'that', ',', 'since', 'he', \"'\", 's', 'sick', ',', 'john', \"'\", 's', 'family', 'won', \"'\", 't', 'be', 'attending', '.']\n"
     ]
    }
   ],
   "source": [
    "inputStr = \"I'm sure that, since he's sick, John's family won't be attending.\"\n",
    "outputTokens = tokenize(inputStr, bLemmatizeContractions=False)\n",
    "print(outputTokens)"
   ]
  },
  {
   "cell_type": "markdown",
   "metadata": {},
   "source": [
    "With bLemmatizeContractions and bPreserveApostropheS turned on."
   ]
  },
  {
   "cell_type": "code",
   "execution_count": 8,
   "metadata": {},
   "outputs": [
    {
     "name": "stdout",
     "output_type": "stream",
     "text": [
      "['i', 'am', 'sure', 'that', ',', 'since', 'he', \"'\", 's', 'sick', ',', 'john', \"'\", 's', 'family', 'will', 'not', 'be', 'attending', '.']\n"
     ]
    }
   ],
   "source": [
    "outputTokens = tokenize(inputStr, bLemmatizeContractions=True)\n",
    "print(outputTokens)"
   ]
  },
  {
   "cell_type": "markdown",
   "metadata": {},
   "source": [
    "Notice that tokenizer( ) doesn't \"lemmatize\" the contraction *he's* because it has no syntactic knowledge&mdash;it can't distinguish the contraction *'s* from the possessive *apostrophe s*."
   ]
  },
  {
   "cell_type": "markdown",
   "metadata": {},
   "source": [
    "### The HandlingOption enum\n",
    "\n",
    "EnhancedPreprocessor has an enum called *HandlingOption*. Here's the file's documentation on this object.\n",
    "\n",
    "```\n",
    "# Certain items like punctuation can be deleted from the token list (removed),\n",
    "# or rolled up into a dummy token (replaced), or treated normally.\n",
    "HandlingOption = Enum('HandlingOption', ['Remove', 'Replace', 'Normal'])\n",
    "```\n",
    "\n",
    "The HandlingOption pertains to three types of strings: stop words, punctuation and telephone numbers. For each of these types, the user can decide how each one is to be handled.\n",
    "\n",
    "Choosing HandlingOption.Replace for all three will replace each of these token types with their dummy tokens wherever they occur. The dummy tokens are defined in the class in this way:\n",
    "\n",
    "```\n",
    "STOP_DUMMY = '_STOP_'\n",
    "PUNC_DUMMY = '_PUNC_'\n",
    "TEL_DUMMY = '_TEL_'\n",
    "```"
   ]
  },
  {
   "cell_type": "markdown",
   "metadata": {},
   "source": [
    "### EnhancedPreprocessor code"
   ]
  },
  {
   "cell_type": "code",
   "execution_count": 9,
   "metadata": {},
   "outputs": [],
   "source": [
    "# Certain items like punctuation can be deleted from the token list (removed),\n",
    "# or rolled up into a dummy token (replaced), or treated normally.\n",
    "HandlingOption = Enum('HandlingOption', ['Remove', 'Replace', 'Normal'])\n",
    "\n",
    "\n",
    "class EnhancedPreprocessor(object):\n",
    "    \"\"\"\"\"\"\n",
    "\n",
    "    telRegex = re.compile(r\".*?(\\(?(?:\\d{3}\\D{0,3})?\\d{3}\\D{0,3}\\d{4}).*?\", re.S)\n",
    "\n",
    "    STOP_DUMMY = '_STOP_'\n",
    "    PUNC_DUMMY = '_PUNC_'\n",
    "    TEL_DUMMY = '_TEL_'\n",
    "\n",
    "    lm = WordNetLemmatizer()\n",
    "\n",
    "    def __init__(self, stopWordList=StopWords,\n",
    "                 bLowercase=True,\n",
    "                 bLemmatize=True,\n",
    "                 bLemmatizeContractions=False,\n",
    "                 bPreserveApostropheS=False,\n",
    "                 bPreserveDigitStrings=False,\n",
    "                 stopWords=HandlingOption.Remove,\n",
    "                 punc=HandlingOption.Normal,\n",
    "                 telNbrs=HandlingOption.Normal,\n",
    "                 minTokenLen=2):\n",
    "\n",
    "        \"\"\"\n",
    "        Set this object's options, which will be used when user calls process( )\n",
    "        to tokenize and optionally lemmatize a piece of text. Note that some of\n",
    "        these options assume that bLowercase is True.\n",
    "\n",
    "        :param stopWordList: a lset of stop words; default is to use a set\n",
    "        tailored specially for this class; NOTE: if using your own stop words,\n",
    "        make sure it's a O(1) set rather than an O(n) list\n",
    "\n",
    "        :param bLowercase: lowercase the input before doing any processing\n",
    "\n",
    "        :param bLemmatize: use WordNetLemmatizer to lemmatize all words; note\n",
    "        that, generally, this lemmatizer only operates on nouns and not the\n",
    "        various verb forms\n",
    "\n",
    "        :param bLemmatizeContractions: boolean; lemmatize contractions, e.g.\n",
    "        tokenize \"doesn't\" as \"does not\"; if False function splits it into\n",
    "        three: \"does\", \"'\" and \"t\"\n",
    "\n",
    "        :param bPreserveApostropheS: boolean; preserve apostrophe 's', e.g.\n",
    "        split \"mark's\" into \"mark\" and \"'s\"; if False, it is split into \"mark\",\n",
    "        \"'\" and \"s\"\n",
    "\n",
    "        :param bPreserveDigitStrings: boolean; preserve digit strings, i.e.\n",
    "        strings composed of digits and certain punctuation characters; e.g. ip\n",
    "        addresses and numbers like \"1,000\" and \"8.5\"; automatically set to True\n",
    "        if telNbrs parameter is set to Replace or Remove\n",
    "\n",
    "        :param stopWords: a member of HandlingOption; indicates how to handle\n",
    "        stop words; options Replace and Remove assume input has been lowercased\n",
    "\n",
    "        :param punc: a member of HandlingOption; indicates how to handle\n",
    "        punctuation\n",
    "\n",
    "        :param telNbrs: a member of HandlingOption; indicates how to handle\n",
    "        telephone numbers; options Replace and Remove force\n",
    "        bPreserveDigitStrings to be True\n",
    "\n",
    "        :param minTokenLen: integer; the minimum number of characters a token\n",
    "        may have--tokens shorter than this length will be filtered out\n",
    "        \"\"\"\n",
    "        # Check input for the parameters which don't result in a clear error message when they\n",
    "        # have invalid values.\n",
    "        args = locals().copy()\n",
    "        args.pop('self')\n",
    "        # print(args)\n",
    "        for arg in args.keys():\n",
    "            value = args[arg]\n",
    "            if arg == 'minTokenLen' or arg == 'stopWordList':\n",
    "                pass\n",
    "            elif arg.startswith('b'):\n",
    "                if value not in [True, False]:\n",
    "                    msg = \"Value of parameter %s is '%s'. It must be boolean.\" % (arg, str(value))\n",
    "                    raise ValueError(msg)\n",
    "            elif not isinstance(value, HandlingOption):\n",
    "                msg = \"Value of parameter %s is '%s'. \" % (arg, str(value))\n",
    "                msg += \"It must be a member of RollupOption with a value in %s. \" \\\n",
    "                       % (str([x.name for x in list(HandlingOption)]))\n",
    "                raise ValueError(msg)\n",
    "\n",
    "        self.bLowercase = bLowercase\n",
    "        self.bLemmatize = bLemmatize\n",
    "        self.lemContractions = bLemmatizeContractions\n",
    "        self.bPresApostropheS = bPreserveApostropheS\n",
    "        self.bPresDigitStrings = bPreserveDigitStrings\n",
    "        self.stopWords = stopWords\n",
    "        self.punc = punc\n",
    "\n",
    "        if telNbrs != HandlingOption.Normal:\n",
    "            self.bPresDigitStrings = True\n",
    "        self.telephoneNbrs = telNbrs\n",
    "\n",
    "        self.stopWordList = stopWordList\n",
    "        self.minTokenLen = minTokenLen\n",
    "        \n",
    "    def process(self, inStr):\n",
    "        \"\"\"\n",
    "        Filter or replace tokens as indicated in initialization.\n",
    "        :param inStr:\n",
    "        :return:\n",
    "        \"\"\"\n",
    "        # We defer lowercasing until after tokenization in order to maximize the quality\n",
    "        # of abbreviation tokenization.\n",
    "\n",
    "        tokens = tokenize(inStr, bLowercase=self.bLowercase,\n",
    "                          bLemmatizeContractions=self.lemContractions,\n",
    "                          bPreserveApostropheS=self.bPresApostropheS,\n",
    "                          bPreserveDigitStrings=self.bPresDigitStrings,\n",
    "                          minTokenLen=self.minTokenLen)\n",
    "\n",
    "        result = []\n",
    "        for token in tokens:\n",
    "\n",
    "            # Test the parameters which are ternary. If Normal, do nothing special.\n",
    "            # If Replace, append to result and continue. If Remove, just continue.\n",
    "            if self.stopWords != HandlingOption.Normal:\n",
    "                if token in self.stopWordList:\n",
    "                    if self.stopWords == HandlingOption.Replace:\n",
    "                        result.append(self.STOP_DUMMY)\n",
    "                    continue\n",
    "\n",
    "            # Lemmatize, if requested.\n",
    "            if self.bLemmatize:\n",
    "                issues = ['has', 'less', 'was']\n",
    "                # Technically, the condition on the right below is redundant, since the only way\n",
    "                # these three could have escaped stop word filtering is if we weren't\n",
    "                # filtering stop words.\n",
    "                if token in issues and self.stopWords == HandlingOption.Normal:\n",
    "                    # These words are already in the correct lemma form.\n",
    "                    pass\n",
    "                else:\n",
    "                    token = self.lm.lemmatize(token)\n",
    "\n",
    "            if self.punc != HandlingOption.Normal:\n",
    "                bAllPunc = True\n",
    "                for char in token:\n",
    "                    category = ud.category(char)\n",
    "                    # P: punctuation; Sm: symbol math; Cc: control character\n",
    "                    if category.startswith('P') or category == 'Sm' \\\n",
    "                            or category == 'Cc':\n",
    "                        continue\n",
    "                    bAllPunc = False\n",
    "                    break\n",
    "\n",
    "                if bAllPunc:\n",
    "                    if self.punc == HandlingOption.Replace:\n",
    "                        result.append(self.PUNC_DUMMY)\n",
    "                    continue\n",
    "\n",
    "            if self.telephoneNbrs != HandlingOption.Normal:\n",
    "                if self.telRegex.search(token):\n",
    "                    if self.telephoneNbrs == HandlingOption.Replace:\n",
    "                        result.append(self.TEL_DUMMY)\n",
    "                    continue\n",
    "\n",
    "            result.append(token)\n",
    "\n",
    "        return result\n"
   ]
  },
  {
   "cell_type": "markdown",
   "metadata": {},
   "source": [
    "<a name=\"usingtheclass\"></a>\n",
    "\n",
    "### Using EnhancedPreprocessor\n",
    "\n",
    "To use EnhancedPreprocessor, you declare the options you want when you create an instance of the class. Here's the parameter list for the __init__( ) method.\n",
    "\n",
    "```\n",
    "def __init__(self, stopWordList=StopWords.StopWords,\n",
    "             bLowercase=True, \n",
    "             bLemmatize=True, \n",
    "             bLemmatizeContractions=False,\n",
    "             bPreserveApostropheS=False, \n",
    "             bPreserveDigitStrings=False,\n",
    "             stopWords=HandlingOption.Remove, \n",
    "             punc=HandlingOption.Normal, \n",
    "             telNbrs=HandlingOption.Normal,\n",
    "             minTokenLen=2):\n",
    "```\n",
    "\n",
    "To make it easier to distinguish one parameter from another, those having boolean values are prefixed with the character 'b'."
   ]
  },
  {
   "cell_type": "markdown",
   "metadata": {},
   "source": [
    "Next we provide the documentation for some of the parameters used in this set of examples.\n",
    "\n",
    "```\n",
    ":param stopWords: a member of HandlingOption; indicates how to handle \n",
    "stop words; options Replace and Remove assume input has been lowercased\n",
    "\n",
    ":param punc: a member of HandlingOption; indicates how to handle \n",
    "punctuation\n",
    "\n",
    ":param telNbrs: a member of HandlingOption; indicates how to handle \n",
    "telephone numbers; options Replace and Remove force \n",
    "bPreserveDigitStrings to be True\n",
    "\n",
    ":param minTokenLen: integer; the minimum number of characters a token \n",
    "may have--tokens shorter than this length will be filtered out\n",
    "```"
   ]
  },
  {
   "cell_type": "markdown",
   "metadata": {},
   "source": [
    "#### bPreserveDigitStrings and telNbrs \n",
    "\n",
    "With bPreserveDigitStrings turned on and telNbrs set to Replace."
   ]
  },
  {
   "cell_type": "code",
   "execution_count": 10,
   "metadata": {},
   "outputs": [
    {
     "name": "stdout",
     "output_type": "stream",
     "text": [
      "['called', '_TEL_', '8:00', '973', '_TEL_', 'noon', 'time', 'know', 'ip', 'address', 'second', 'time', 'said', '173.70.92.252']\n"
     ]
    }
   ],
   "source": [
    "preprocessor = EnhancedPreprocessor(bPreserveDigitStrings=True, \n",
    "                                               telNbrs=HandlingOption.Replace)\n",
    "inputStr = \"They called me at 800-989-9999 at 8:00, and at (973)436-7888 at noon. \"\n",
    "inputStr += \"The first time they didn't know the IP address, and the second time they said \"\n",
    "inputStr += \"it was 173.70.92.252.\"\n",
    "outputTokens = preprocessor.process(inputStr)\n",
    "print(outputTokens)"
   ]
  },
  {
   "cell_type": "markdown",
   "metadata": {},
   "source": [
    "Some things to note in the output above:\n",
    "- Telephone number identification isn't perfect&mdash;the class fails to identify the entire string *(973)436-7888* as a telephone number.\n",
    "- By default, stop words are removed and punctuation is not, though since the default value of `minTokenLen` is 1, single-character punctuation is removed.\n",
    "- By default, the class lemmatizes. This example illustrates one of WordNetLemmatizer's failings&mdash;that verbs are not lemmatized (*said* is not lemmatized to *say*).\n",
    "- It would be straightforward to extend the class to specially handle IP addresses. Simply mimick the way telephone numbers are handled, changing the regex to handle digits separated by periods."
   ]
  },
  {
   "cell_type": "markdown",
   "metadata": {},
   "source": [
    "#### stopWords and punc\n",
    "\n",
    "This next example shows the application removing both stop words and punctuation."
   ]
  },
  {
   "cell_type": "code",
   "execution_count": 11,
   "metadata": {},
   "outputs": [
    {
     "name": "stdout",
     "output_type": "stream",
     "text": [
      "['called', '800', '989', '9999', '00', '973', '436', '7888', 'noon', 'time', 'know', 'ip', 'address', 'second', 'time', 'said', '173', '70', '92', '252']\n"
     ]
    }
   ],
   "source": [
    "preprocessor = EnhancedPreprocessor(stopWords=HandlingOption.Remove, \n",
    "                                               punc=HandlingOption.Remove)\n",
    "inputStr = \"They called me at 800-989-9999 at 8:00, and at (973)436-7888 at noon. \"\n",
    "inputStr += \"The first time they didn't know the IP address, and the second time they said \"\n",
    "inputStr += \"it was 173.70.92.252.\"\n",
    "outputTokens = preprocessor.process(inputStr)\n",
    "print(outputTokens)"
   ]
  },
  {
   "cell_type": "markdown",
   "metadata": {},
   "source": [
    "Compare that output to the following, with set to Replace. Note that the single-character punctuation would have been removed if we hadn't set `minTokenLen` to 1."
   ]
  },
  {
   "cell_type": "code",
   "execution_count": 12,
   "metadata": {},
   "outputs": [
    {
     "name": "stdout",
     "output_type": "stream",
     "text": [
      "['_STOP_', 'called', '_STOP_', '_STOP_', '800', '_PUNC_', '989', '_PUNC_', '9999', '_STOP_', '8', '_PUNC_', '00', '_PUNC_', '_STOP_', '_STOP_', '_PUNC_', '973', '_PUNC_', '436', '_PUNC_', '7888', '_STOP_', 'noon', '_PUNC_', '_STOP_', '_STOP_', 'time', '_STOP_', '_STOP_', '_PUNC_', '_STOP_', 'know', '_STOP_', 'ip', 'address', '_PUNC_', '_STOP_', '_STOP_', 'second', 'time', '_STOP_', 'said', '_STOP_', '_STOP_', '173', '_PUNC_', '70', '_PUNC_', '92', '_PUNC_', '252', '_PUNC_']\n"
     ]
    }
   ],
   "source": [
    "preprocessor = EnhancedPreprocessor(stopWords=HandlingOption.Replace, \n",
    "                                               punc=HandlingOption.Replace,\n",
    "                                               minTokenLen=1)\n",
    "inputStr = \"They called me at 800-989-9999 at 8:00, and at (973)436-7888 at noon. \"\n",
    "inputStr += \"The first time they didn't know the IP address, and the second time they said \"\n",
    "inputStr += \"it was 173.70.92.252.\"\n",
    "outputTokens = preprocessor.process(inputStr)\n",
    "print(outputTokens)"
   ]
  },
  {
   "cell_type": "markdown",
   "metadata": {},
   "source": [
    "## Runtime notes\n",
    "\n",
    "This section performs some runtime experiments meant to explore the following issues:\n",
    "    - What is the runtime cost of using the EnhancedPreprocessor over the SimplePreprocessor for the same output?\n",
    "    - What is the runtime cost of some of EnhancedPreprocessor's varioius options?"
   ]
  },
  {
   "cell_type": "markdown",
   "metadata": {},
   "source": [
    "This notebook doesn't actually run the tests. Rather, it performs calculations on the test results. All the tests involved preprocessing a set of 2000 Imdb movie reviews."
   ]
  },
  {
   "cell_type": "markdown",
   "metadata": {},
   "source": [
    "### Test computers\n",
    "\n",
    "Most of these tests were run on two machines, a fairly old Mac Workbook Pro, and a Dell PC Running Linux. In the code below, variables, etc. are likely to refer to these with the strings *BoxM* and *BoxL* respectively."
   ]
  },
  {
   "cell_type": "markdown",
   "metadata": {},
   "source": [
    "### Function for bar chart display"
   ]
  },
  {
   "cell_type": "markdown",
   "metadata": {},
   "source": [
    "First we have to put in some code for the display of our results."
   ]
  },
  {
   "cell_type": "code",
   "execution_count": 13,
   "metadata": {},
   "outputs": [],
   "source": [
    "from statistics import mean"
   ]
  },
  {
   "cell_type": "code",
   "execution_count": 14,
   "metadata": {},
   "outputs": [],
   "source": [
    "import matplotlib.pyplot as plt\n",
    "import numpy as np\n",
    "from matplotlib.ticker import MaxNLocator\n",
    "%matplotlib inline\n",
    "\n",
    "def plot_bar_chart(title, runtimeDict, x_axis_range, x_axis_label):\n",
    "    \"\"\"\n",
    "    title: string; title of bar chart\n",
    "    runtimeDict: dictionary; keys are strings identifying each \n",
    "    bar in the chart and values are floats \n",
    "    x_axis_range: two-digit list where the first is less than the \n",
    "    second, e.g. (0, 20); range of x-axis\n",
    "    x_axis_label: string; label of x-axis\n",
    "    \"\"\"\n",
    "    plt.rcdefaults()\n",
    "    # fig, ax = plt.subplots()\n",
    "    fig, ax = plt.subplots(figsize=(5, 3))\n",
    "\n",
    "    approaches = runtimeDict.keys()\n",
    "    y_pos = np.arange(len(approaches))\n",
    "    runtimes = np.asarray(list(runtimeDict.values()))\n",
    "\n",
    "    # Set horizontal range here.\n",
    "    ax.set_xlim(x_axis_range)\n",
    "    ax.xaxis.set_major_locator(MaxNLocator(7))\n",
    "    ax.xaxis.grid(True, linestyle='--', which='major',\n",
    "                       color='grey', alpha=.25)\n",
    "\n",
    "    rects = ax.barh(y_pos, runtimes, xerr=None, align='center', color='green')\n",
    "\n",
    "    ax.set_yticks(y_pos)\n",
    "    ax.set_yticklabels(approaches)\n",
    "    ax.invert_yaxis()  # labels read top-to-bottom\n",
    "    ax.set_xlabel(x_axis_label)\n",
    "    ax.set_title(title)\n",
    "\n",
    "    rect_labels = []\n",
    "    # Lastly, write in the ranking inside each bar to aid in interpretation\n",
    "    for idx, rect in enumerate(rects):\n",
    "        # Rectangle widths are already integer-valued but are floating\n",
    "        # type, so it helps to remove the trailing decimal point and 0 by\n",
    "        # converting width to int type\n",
    "        width = int(rect.get_width())\n",
    "\n",
    "        rankStr = runtimes[idx]\n",
    "        # The bars aren't wide enough to print the ranking inside\n",
    "        if width < 5:\n",
    "            # Shift the text to the right side of the right edge\n",
    "            xloc = width + 1\n",
    "            # Black against white background\n",
    "            clr = 'black'\n",
    "            align = 'left'\n",
    "        else:\n",
    "            # Shift the text to the left side of the right edge\n",
    "            xloc = 0.98*width\n",
    "            # White on magenta\n",
    "            clr = 'white'\n",
    "            align = 'right'\n",
    "\n",
    "        # Center the text vertically in the bar\n",
    "        yloc = rect.get_y() + rect.get_height()/2.0\n",
    "        label = ax.text(xloc, yloc, rankStr, horizontalalignment=align,\n",
    "                         verticalalignment='center', color=clr, weight='bold',\n",
    "                         clip_on=True)\n",
    "        rect_labels.append(label)"
   ]
  },
  {
   "cell_type": "markdown",
   "metadata": {},
   "source": [
    "### EnhancedPreprocessor vs. SimplePreprocessor\n",
    "\n",
    "[SimplePreprocessor](./SimplePreprocessor.ipnyb) is a slimmed-down version of EnhancedPreprocessor. SimplePreprocessor was created after I observed that the if-statements which EnhancedPreprocessor offers, and the for-loops which it requires, had a significant run-time cost. Therefore, in addition to tokenization, it allows only these options:\n",
    "\n",
    "- lemmatization\n",
    "- an adjustable minimum acceptable token length\n",
    "\n",
    "So what is the \"significant run=time cost\" I refer to above? Here we compare runtimes for the two preprocessors using the default constructor of both. It's a fair comparison since the output for the two preprocessors using the default options is identical."
   ]
  },
  {
   "cell_type": "markdown",
   "metadata": {},
   "source": [
    "**For the Mac**"
   ]
  },
  {
   "cell_type": "code",
   "execution_count": 15,
   "metadata": {},
   "outputs": [
    {
     "name": "stdout",
     "output_type": "stream",
     "text": [
      "Box M SimplePreprocessor default options: 8.47\n",
      "Box M EnhancedPreprocessor default options: 10.4\n",
      "\n",
      "Box M runtime cost of using EnhancedPreprocessor over SimplePreprocessor: -0.23\n"
     ]
    }
   ],
   "source": [
    "# SimplePreprocessor\n",
    "simpleBoxM = [8.6, 8.5, 8.3]\n",
    "simpleBoxMMean = round(mean(simpleBoxM), 2)\n",
    "print(\"Box M SimplePreprocessor default options: %s\" % round(simpleBoxMMean, 2))\n",
    "\n",
    "# EnhancedPreprocessor\n",
    "enhancedBoxM = [10.5, 10.3, 10.4]\n",
    "enhancedBoxMMean = round(mean(enhancedBoxM), 2)\n",
    "print(\"Box M EnhancedPreprocessor default options: %s\" % round(enhancedBoxMMean, 2))\n",
    "\n",
    "costBoxM = (simpleBoxMMean - enhancedBoxMMean) / simpleBoxMMean\n",
    "print(\"\\nBox M runtime cost of using EnhancedPreprocessor over SimplePreprocessor: %s\" % round(costBoxM, 2))"
   ]
  },
  {
   "cell_type": "markdown",
   "metadata": {},
   "source": [
    "**For the Linux Machine**"
   ]
  },
  {
   "cell_type": "code",
   "execution_count": 16,
   "metadata": {},
   "outputs": [
    {
     "name": "stdout",
     "output_type": "stream",
     "text": [
      "Box L SimplePreprocessor default options: 4.27\n",
      "Box L EnhancedPreprocessor default options: 5.23\n",
      "\n",
      "Box L runtime cost of using EnhancedPreprocessor over SimplePreprocessor: -0.23\n"
     ]
    }
   ],
   "source": [
    "# SimplePreprocessor\n",
    "simpleBoxL = [4.3, 4.2, 4.3]\n",
    "simpleBoxLMean = round(mean(simpleBoxL), 2)\n",
    "print(\"Box L SimplePreprocessor default options: %s\" % round(simpleBoxLMean, 2))\n",
    "\n",
    "EnhancedPreprocessor\n",
    "enhancedBoxL = [5.2, 5.2, 5.3]\n",
    "enhancedBoxLMean = round(mean(enhancedBoxL), 2)\n",
    "print(\"Box L EnhancedPreprocessor default options: %s\" % round(enhancedBoxLMean, 2))\n",
    "\n",
    "costBoxL = (simpleBoxLMean - enhancedBoxLMean) / simpleBoxLMean\n",
    "print(\"\\nBox L runtime cost of using EnhancedPreprocessor over SimplePreprocessor: %s\" % round(costBoxM, 2))"
   ]
  },
  {
   "cell_type": "code",
   "execution_count": 17,
   "metadata": {},
   "outputs": [
    {
     "data": {
      "image/png": "[encoded data removed]",
      "text/plain": [
       "<Figure size 500x300 with 1 Axes>"
      ]
     },
     "metadata": {},
     "output_type": "display_data"
    }
   ],
   "source": [
    "runtimeDict = {'Mac': round(-100 * costBoxM, 2), 'Linux Box': round(-100 * costBoxL, 2)}\n",
    "plot_bar_chart('Cost in runtime of using EnhancedPreprocessor over SimplePreprocessor', \n",
    "             runtimeDict, \n",
    "             [0, 100],\n",
    "            'Runtime cost (percent)')\n",
    "\n",
    "# plt.show()"
   ]
  },
  {
   "cell_type": "markdown",
   "metadata": {},
   "source": [
    "#### Conclusion\n",
    "\n",
    "We see that, on both machines, it takes 22-23% longer to use the default version of the EnhancedPreprocessor as compared to the SimplePreprocessor."
   ]
  },
  {
   "cell_type": "markdown",
   "metadata": {},
   "source": [
    "### Cost comparison of various options\n",
    "\n"
   ]
  },
  {
   "cell_type": "markdown",
   "metadata": {},
   "source": [
    "This set of runtime costs was performed only on the Mac, \"Box M\"."
   ]
  },
  {
   "cell_type": "code",
   "execution_count": 18,
   "metadata": {},
   "outputs": [
    {
     "name": "stdout",
     "output_type": "stream",
     "text": [
      "Box M default options: 9.47\n",
      "Box M bPreserveDigitStrings: 9.95\n",
      "Box M replace telephone numbers: 11.35\n",
      "Box M lemmatizing contractions: 9.5\n",
      "Box M replace stop words and punc with dummies: 10.6\n"
     ]
    }
   ],
   "source": [
    "# EnhancedPreprocessor( )\n",
    "defaultOptionsBoxM = [9.6, 9.6, 9.4, 9.3]\n",
    "defaultOptionsBoxMMean = round(mean(defaultOptionsBoxM), 2)\n",
    "print(\"Box M default options: %s\" % round(defaultOptionsBoxMMean, 2))\n",
    "\n",
    "# EnhancedPreprocessor(bPreserveDigitStrings=True)\n",
    "preserveDigitStringsBoxM = [9.9, 10.0]\n",
    "preserveDigitStringsBoxMMean = mean(preserveDigitStringsBoxM)\n",
    "print(\"Box M bPreserveDigitStrings: %s\" % round(preserveDigitStringsBoxMMean, 2))\n",
    "preserveDigitStringsCostBoxM = \\\n",
    "    (defaultOptionsBoxMMean - preserveDigitStringsBoxMMean) / defaultOptionsBoxMMean\n",
    "\n",
    "# EnhancedPreprocessor(bPreserveDigitStrings=True, \n",
    "#                                 telNbrs=HandlingOption.Replace)\n",
    "telNbrsBoxM = [11.4, 11.3]\n",
    "telNbrsBoxMMean = mean(telNbrsBoxM)\n",
    "print(\"Box M replace telephone numbers: %s\" % round(telNbrsBoxMMean, 2))\n",
    "telNbrsCostBoxM = \\\n",
    "    (defaultOptionsBoxMMean - telNbrsBoxMMean) / defaultOptionsBoxMMean\n",
    "\n",
    "\n",
    "# EnhancedPreprocessor(bLemmatizeContractions=True)\n",
    "lemmaContractionsBoxM = [9.5, 9.5]\n",
    "lemmaContractionsMean = mean(lemmaContractionsBoxM)\n",
    "print(\"Box M lemmatizing contractions: %s\" % round(lemmaContractionsMean, 2))\n",
    "lemmaContractionsCostBoxM = \\\n",
    "    (defaultOptionsBoxMMean - lemmaContractionsMean) / defaultOptionsBoxMMean\n",
    "\n",
    "\n",
    "# EnhancedPreprocessor(stopWords=HandlingOption.Replace, \n",
    "#                                  punc=HandlingOption.Replace)\n",
    "replaceStopPuncBoxM = [10.6, 10.6]\n",
    "replaceStopPuncBoxMMean = mean(replaceStopPuncBoxM)\n",
    "print(\"Box M replace stop words and punc with dummies: %s\" % round(replaceStopPuncBoxMMean, 2))\n",
    "replaceStopPuncCostBoxM = \\\n",
    "    (defaultOptionsBoxMMean - replaceStopPuncBoxMMean) / defaultOptionsBoxMMean\n"
   ]
  },
  {
   "cell_type": "code",
   "execution_count": 19,
   "metadata": {},
   "outputs": [
    {
     "data": {
      "image/png": "[encoded data removed]",
      "text/plain": [
       "<Figure size 500x300 with 1 Axes>"
      ]
     },
     "metadata": {},
     "output_type": "display_data"
    }
   ],
   "source": [
    "runtimeDict = {'Default options': round(defaultOptionsBoxMMean, 2), \n",
    "               'bPreserveDigitStrings': round(preserveDigitStringsBoxMMean, 2),\n",
    "               'replace telephone numbers': round(telNbrsBoxMMean, 2),\n",
    "               'lemmatizing contractions': round(lemmaContractionsMean, 2),\n",
    "               'replace stop words and punc': round(replaceStopPuncBoxMMean, 2),}\n",
    "plot_bar_chart('Runtimes of various EnhancedPreprocessor Options', \n",
    "             runtimeDict, \n",
    "             [0, 20],\n",
    "            'Runtime (sec)')\n",
    "\n",
    "# plt.show()"
   ]
  },
  {
   "cell_type": "markdown",
   "metadata": {},
   "source": [
    "Now let's calculate the runtime costs."
   ]
  },
  {
   "cell_type": "code",
   "execution_count": 20,
   "metadata": {},
   "outputs": [
    {
     "data": {
      "image/png": "[encoded data removed]",
      "text/plain": [
       "<Figure size 500x300 with 1 Axes>"
      ]
     },
     "metadata": {},
     "output_type": "display_data"
    }
   ],
   "source": [
    "runtimeDict = {'bPreserveDigitStrings': round(-100 * preserveDigitStringsCostBoxM, 2),\n",
    "               'replace telephone numbers': round(-100 * telNbrsCostBoxM, 2),\n",
    "               'lemmatizing contractions': round(-100 * lemmaContractionsCostBoxM, 2),\n",
    "               'replace stop words and punc': round(-100 * replaceStopPuncCostBoxM, 2),}\n",
    "plot_bar_chart('Cost in runtime of various EnhancedPreprocessor Options', \n",
    "             runtimeDict, \n",
    "             [0, 25],\n",
    "            'Runtime cost (percent)')\n",
    "\n",
    "# plt.show()"
   ]
  },
  {
   "cell_type": "markdown",
   "metadata": {},
   "source": [
    "#### Conclusion\n",
    "\n",
    "The runtime costs of some of EnhancedPreprocessor's options can be very significant. If you don't need them, use SimplePreprocessor."
   ]
  },
  {
   "cell_type": "markdown",
   "metadata": {},
   "source": [
    "## Use of Python's __slots__\n",
    "\n",
    "Recently I came across a blog describing the use of Python's `__slots__` to reduce the cost of accessing an object's attributes (aka properties). Since some of the difference in runtime between the Simple and the Enhanced preprocessors can be attributed to checking whether a particular option has been set by the user, I decided to explore whether the use of `__slots__` could make EnhancedPreprocessor run a little faster.\n",
    "\n",
    "Rewriting the class was very easy. The only requirements are:\n",
    "\n",
    "- The class must subclass `object`.\n",
    "- All the object properties must be set in the constructor (the \\_\\_init\\_\\_( ) method).\n",
    "- You declare the properties in the \"static\" section of the class. To borrow the example given by the second reference below:\n",
    "\n",
    "```\n",
    "class MyClass(object):\n",
    "    __slots__ = ['name', 'identifier']\n",
    "    def __init__(self, name, identifier):\n",
    "        self.name = name\n",
    "        self.identifier = identifier\n",
    "```\n",
    "\n",
    "References:\n",
    "- [Stack Overflow's \"Usage of __slots__?\"](https://stackoverflow.com/questions/472000/usage-of-slots): a pretty detailed explanation which points out, as an aside, that users of the SqlAlchemy ORM can potentially see much benefit here\n",
    "- [__slots__ Magic](http://book.pythontips.com/en/latest/__slots__magic.html): a quick introduction (which also makes the claim that PyPy implements `__slots__` optimization by default)\n",
    "- [A quick dive into Python’s “__slots__”](https://blog.usejournal.com/a-quick-dive-into-pythons-slots-72cdc2d334e): but note that the author's examples fail to subclass `object`.\n"
   ]
  },
  {
   "cell_type": "markdown",
   "metadata": {},
   "source": [
    "### Conclusion\n",
    "\n",
    "Alas, testing did not show that a `__slots__` version of EnhancedPreprocessor ran any faster. To see the benefits, perhaps a class needs to access its properties more frequently than this one does."
   ]
  }
 ],
 "metadata": {
  "kernelspec": {
   "display_name": "Python 3",
   "language": "python",
   "name": "python3"
  },
  "language_info": {
   "codemirror_mode": {
    "name": "ipython",
    "version": 3
   },
   "file_extension": ".py",
   "mimetype": "text/x-python",
   "name": "python",
   "nbconvert_exporter": "python",
   "pygments_lexer": "ipython3",
   "version": "3.6.5"
  },
  "toc": {
   "base_numbering": 1,
   "nav_menu": {},
   "number_sections": true,
   "sideBar": true,
   "skip_h1_title": true,
   "title_cell": "Table of Contents",
   "title_sidebar": "Contents",
   "toc_cell": false,
   "toc_position": {
    "height": "calc(100% - 180px)",
    "left": "10px",
    "top": "150px",
    "width": "315.6px"
   },
   "toc_section_display": true,
   "toc_window_display": true
  }
 },
 "nbformat": 4,
 "nbformat_minor": 2
}
