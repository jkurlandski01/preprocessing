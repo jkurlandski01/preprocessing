{
 "cells": [
  {
   "cell_type": "markdown",
   "metadata": {},
   "source": [
    "# SimplePreprocessor"
   ]
  },
  {
   "cell_type": "markdown",
   "metadata": {},
   "source": [
    "Here we demonstrate a class for tokenization and lemmatization that offers:\n",
    "\n",
    "- Good tokenization of abbreviations, numbers and punctuation, in addition to normal words.\n",
    "- Fairly fast tokenization and lemmatization.\n",
    "- A stop word list designed for the tool's default output.\n",
    "- Acceptable, if not perfect, lemmatization of nouns and some verb forms."
   ]
  },
  {
   "cell_type": "markdown",
   "metadata": {},
   "source": [
    "## Notes on lemmatization\n",
    "\n",
    "DocPreprocessor uses NLTK's WordNetLemmatizer. The [TokensLemmasStopwords](./TokensLemmasStopwords.ipynb) notebook explores this lemmatizer in detail, and finds it deficient for a number of reasons. I have decided to use it here solely on the basis of runtime&mdash;the only other option I have worked with being the much slower Spacy lemmatizer, which requires a full parse. (Spacy's lemmatizer is compared head-to-head in the TokensLemmasStopwords notebook.)\n",
    "\n",
    "It is worth doubting whether lemmatization is worth the additional runtime cost. See [Camacho-Collados & Pilehvar (2018)](https://arxiv.org/pdf/1707.01780.pdf) for a good start into exploring this issue as it applies to deep learning. More generally, [Ganesan 2019](https://www.kdnuggets.com/2019/04/text-preprocessing-nlp-machine-learning.html) may be of some use, especially on the point of taking into consideration the size and noisiness of your data."
   ]
  },
  {
   "cell_type": "markdown",
   "metadata": {},
   "source": [
    "## Stop words\n",
    "\n",
    "We start with the stop word list because that is a SimplePreprocessor dependency.\n",
    "\n",
    "SimplePreprocessor's stop word list has been tailored for SimplePreprocessor&mdash;for its tokenizer, to be precise. It is obvious why one's stop word list needs to match the output of one's tokenizer. In practice, however, this is often not the case. For example, the [sklearn documentation for CountVectorizer](https://scikit-learn.org/stable/modules/generated/sklearn.feature_extraction.text.CountVectorizer.html) gives a warning about that class's default stop word list: \n",
    "\n",
    "> There are several known issues with ‘english’ and you should consider an alternative (see [Using stop words](https://scikit-learn.org/stable/modules/feature_extraction.html#stop-words)).\n",
    "\n",
    "The *Using stop words* link on that sklearn page also warns:\n",
    "\n",
    ">You should also make sure that the stop word list has had the same preprocessing and tokenization applied as the one used in the vectorizer. The word *we’ve* is split into we and ve by CountVectorizer’s default tokenizer, so if *we’ve* is in stop_words, but *ve* is not, *ve* will be retained from *we’ve* in transformed text.\n",
    "\n",
    "There are at least two ways that an application's stop word list might not match the output of its tokenizer:\n",
    "\n",
    "- Developers \"borrow\" a freely-available stop word list without paying much attention to its elements.\n",
    "- Developers start with a stop word list in synch with their tokenizer, but the two become out-of-synch during the course of development."
   ]
  },
  {
   "cell_type": "markdown",
   "metadata": {},
   "source": [
    "Rather than simply create a list of stop words whose provenance and rationale will eventually be forgotten, I decided to write a function that generates stop words. Each step in the process is documented. This will, I hope, help prevent the contents of the stop word list from being forgotten, and make it easy to keep the stop words in synch with the SimplePreprocessor tokenizer as development continues."
   ]
  },
  {
   "cell_type": "code",
   "execution_count": 1,
   "metadata": {},
   "outputs": [],
   "source": [
    "from spacy.lang.en.stop_words import STOP_WORDS as SpacyStopWords\n",
    "from sklearn.feature_extraction.stop_words import ENGLISH_STOP_WORDS as SklearnStopWords\n",
    "\n",
    "def generateStopWords():\n",
    "    \"\"\"\n",
    "    Generate stopwords, following a pre-determined routine. \n",
    "    :return: a set of strings\n",
    "    \"\"\"\n",
    "    # Start with intersection of Spacy and sklearn stop word lists.\n",
    "    spacySet = set(SpacyStopWords)\n",
    "    sklearnSet = set(SklearnStopWords)\n",
    "    tempStopWords = spacySet.intersection(sklearnSet)\n",
    "\n",
    "    # Add verb forms of common verbs which are not already in the list.\n",
    "    forms = ['gets', 'getting', 'got', 'gotten',\n",
    "             'goes', 'going', 'gone', 'went',\n",
    "             'does', 'doing', 'did',\n",
    "             'having',\n",
    "             'make', 'makes', 'making',\n",
    "             'takes', 'taking', 'took']\n",
    "    tempStopWords = tempStopWords.union(forms)\n",
    "\n",
    "    # Assume contractions are split on the apostrophe. Add the left- and right-hand sides.\n",
    "    lefts = ['aren', 'couldn', 'didn', 'doesn', 'don', 'hadn', 'hasn', 'haven', 'isn', 'shouldn',\n",
    "             'wasn', 'weren', 'won', 'wouldn']\n",
    "    rights = ['d', 'll', 'm', 're', 's', 't', 've']\n",
    "    # Don't include colloquial contractions such as these: ain't, cause, gimme, gonna, gotta, y'all\n",
    "    # Don't include relatively uncommon contractions such as these: daren't, mayn't, needn't, 'tis, \n",
    "    # 'twas\n",
    "    contractions = lefts + rights\n",
    "    tempStopWords = tempStopWords.union(contractions)\n",
    "\n",
    "    # Remove from the list very uncommon words.\n",
    "    uncommonWords = \"elsewhere hence hereafter hereby herein hereupon latterly meanwhile thence thereafter \"\n",
    "    uncommonWords += \"thereby therein thereupon whence whereafter whereas whereby wherein whereupon whither whom\"\n",
    "    uncommonWordSet = set(uncommonWords.split(' '))\n",
    "    tempStopWords = tempStopWords - uncommonWordSet\n",
    "\n",
    "    return tempStopWords\n"
   ]
  },
  {
   "cell_type": "code",
   "execution_count": 2,
   "metadata": {},
   "outputs": [],
   "source": [
    "stopWords = generateStopWords()"
   ]
  },
  {
   "cell_type": "markdown",
   "metadata": {},
   "source": [
    "Note that, technically, the stop word list is not a list. It's a set."
   ]
  },
  {
   "cell_type": "code",
   "execution_count": 3,
   "metadata": {},
   "outputs": [
    {
     "data": {
      "text/plain": [
       "set"
      ]
     },
     "execution_count": 3,
     "metadata": {},
     "output_type": "execute_result"
    }
   ],
   "source": [
    "type(stopWords)"
   ]
  },
  {
   "cell_type": "markdown",
   "metadata": {},
   "source": [
    "Holding the stop words in a set container allows for faster lookups. See the \"Cost of stop words as list\" section below for more on this.\n",
    "\n",
    "We'll sort the stop words for display, which returns them as a list."
   ]
  },
  {
   "cell_type": "code",
   "execution_count": 4,
   "metadata": {},
   "outputs": [
    {
     "data": {
      "text/plain": [
       "['a',\n",
       " 'about',\n",
       " 'above',\n",
       " 'across',\n",
       " 'after',\n",
       " 'afterwards',\n",
       " 'again',\n",
       " 'against',\n",
       " 'all',\n",
       " 'almost',\n",
       " 'alone',\n",
       " 'along',\n",
       " 'already',\n",
       " 'also',\n",
       " 'although',\n",
       " 'always',\n",
       " 'am',\n",
       " 'among',\n",
       " 'amongst',\n",
       " 'amount',\n",
       " 'an',\n",
       " 'and',\n",
       " 'another',\n",
       " 'any',\n",
       " 'anyhow',\n",
       " 'anyone',\n",
       " 'anything',\n",
       " 'anyway',\n",
       " 'anywhere',\n",
       " 'are',\n",
       " 'aren',\n",
       " 'around',\n",
       " 'as',\n",
       " 'at',\n",
       " 'back',\n",
       " 'be',\n",
       " 'became',\n",
       " 'because',\n",
       " 'become',\n",
       " 'becomes',\n",
       " 'becoming',\n",
       " 'been',\n",
       " 'before',\n",
       " 'beforehand',\n",
       " 'behind',\n",
       " 'being',\n",
       " 'below',\n",
       " 'beside',\n",
       " 'besides',\n",
       " 'between',\n",
       " 'beyond',\n",
       " 'both',\n",
       " 'bottom',\n",
       " 'but',\n",
       " 'by',\n",
       " 'call',\n",
       " 'can',\n",
       " 'cannot',\n",
       " 'could',\n",
       " 'couldn',\n",
       " 'd',\n",
       " 'did',\n",
       " 'didn',\n",
       " 'do',\n",
       " 'does',\n",
       " 'doesn',\n",
       " 'doing',\n",
       " 'don',\n",
       " 'done',\n",
       " 'down',\n",
       " 'due',\n",
       " 'during',\n",
       " 'each',\n",
       " 'eight',\n",
       " 'either',\n",
       " 'eleven',\n",
       " 'else',\n",
       " 'empty',\n",
       " 'enough',\n",
       " 'even',\n",
       " 'ever',\n",
       " 'every',\n",
       " 'everyone',\n",
       " 'everything',\n",
       " 'everywhere',\n",
       " 'except',\n",
       " 'few',\n",
       " 'fifteen',\n",
       " 'fifty',\n",
       " 'first',\n",
       " 'five',\n",
       " 'for',\n",
       " 'former',\n",
       " 'formerly',\n",
       " 'forty',\n",
       " 'four',\n",
       " 'from',\n",
       " 'front',\n",
       " 'full',\n",
       " 'further',\n",
       " 'get',\n",
       " 'gets',\n",
       " 'getting',\n",
       " 'give',\n",
       " 'go',\n",
       " 'goes',\n",
       " 'going',\n",
       " 'gone',\n",
       " 'got',\n",
       " 'gotten',\n",
       " 'had',\n",
       " 'hadn',\n",
       " 'has',\n",
       " 'hasn',\n",
       " 'have',\n",
       " 'haven',\n",
       " 'having',\n",
       " 'he',\n",
       " 'her',\n",
       " 'here',\n",
       " 'hers',\n",
       " 'herself',\n",
       " 'him',\n",
       " 'himself',\n",
       " 'his',\n",
       " 'how',\n",
       " 'however',\n",
       " 'hundred',\n",
       " 'i',\n",
       " 'if',\n",
       " 'in',\n",
       " 'indeed',\n",
       " 'into',\n",
       " 'is',\n",
       " 'isn',\n",
       " 'it',\n",
       " 'its',\n",
       " 'itself',\n",
       " 'keep',\n",
       " 'last',\n",
       " 'latter',\n",
       " 'least',\n",
       " 'less',\n",
       " 'll',\n",
       " 'm',\n",
       " 'made',\n",
       " 'make',\n",
       " 'makes',\n",
       " 'making',\n",
       " 'many',\n",
       " 'may',\n",
       " 'me',\n",
       " 'might',\n",
       " 'mine',\n",
       " 'more',\n",
       " 'moreover',\n",
       " 'most',\n",
       " 'mostly',\n",
       " 'move',\n",
       " 'much',\n",
       " 'must',\n",
       " 'my',\n",
       " 'myself',\n",
       " 'name',\n",
       " 'namely',\n",
       " 'neither',\n",
       " 'never',\n",
       " 'nevertheless',\n",
       " 'next',\n",
       " 'nine',\n",
       " 'no',\n",
       " 'nobody',\n",
       " 'none',\n",
       " 'noone',\n",
       " 'nor',\n",
       " 'not',\n",
       " 'nothing',\n",
       " 'now',\n",
       " 'nowhere',\n",
       " 'of',\n",
       " 'off',\n",
       " 'often',\n",
       " 'on',\n",
       " 'once',\n",
       " 'one',\n",
       " 'only',\n",
       " 'onto',\n",
       " 'or',\n",
       " 'other',\n",
       " 'others',\n",
       " 'otherwise',\n",
       " 'our',\n",
       " 'ours',\n",
       " 'ourselves',\n",
       " 'out',\n",
       " 'over',\n",
       " 'own',\n",
       " 'part',\n",
       " 'per',\n",
       " 'perhaps',\n",
       " 'please',\n",
       " 'put',\n",
       " 'rather',\n",
       " 're',\n",
       " 's',\n",
       " 'same',\n",
       " 'see',\n",
       " 'seem',\n",
       " 'seemed',\n",
       " 'seeming',\n",
       " 'seems',\n",
       " 'serious',\n",
       " 'several',\n",
       " 'she',\n",
       " 'should',\n",
       " 'shouldn',\n",
       " 'show',\n",
       " 'side',\n",
       " 'since',\n",
       " 'six',\n",
       " 'sixty',\n",
       " 'so',\n",
       " 'some',\n",
       " 'somehow',\n",
       " 'someone',\n",
       " 'something',\n",
       " 'sometime',\n",
       " 'sometimes',\n",
       " 'somewhere',\n",
       " 'still',\n",
       " 'such',\n",
       " 't',\n",
       " 'take',\n",
       " 'takes',\n",
       " 'taking',\n",
       " 'ten',\n",
       " 'than',\n",
       " 'that',\n",
       " 'the',\n",
       " 'their',\n",
       " 'them',\n",
       " 'themselves',\n",
       " 'then',\n",
       " 'there',\n",
       " 'therefore',\n",
       " 'these',\n",
       " 'they',\n",
       " 'third',\n",
       " 'this',\n",
       " 'those',\n",
       " 'though',\n",
       " 'three',\n",
       " 'through',\n",
       " 'throughout',\n",
       " 'thru',\n",
       " 'thus',\n",
       " 'to',\n",
       " 'together',\n",
       " 'too',\n",
       " 'took',\n",
       " 'top',\n",
       " 'toward',\n",
       " 'towards',\n",
       " 'twelve',\n",
       " 'twenty',\n",
       " 'two',\n",
       " 'under',\n",
       " 'until',\n",
       " 'up',\n",
       " 'upon',\n",
       " 'us',\n",
       " 've',\n",
       " 'very',\n",
       " 'via',\n",
       " 'was',\n",
       " 'wasn',\n",
       " 'we',\n",
       " 'well',\n",
       " 'went',\n",
       " 'were',\n",
       " 'weren',\n",
       " 'what',\n",
       " 'whatever',\n",
       " 'when',\n",
       " 'whenever',\n",
       " 'where',\n",
       " 'wherever',\n",
       " 'whether',\n",
       " 'which',\n",
       " 'while',\n",
       " 'who',\n",
       " 'whoever',\n",
       " 'whole',\n",
       " 'whose',\n",
       " 'why',\n",
       " 'will',\n",
       " 'with',\n",
       " 'within',\n",
       " 'without',\n",
       " 'won',\n",
       " 'would',\n",
       " 'wouldn',\n",
       " 'yet',\n",
       " 'you',\n",
       " 'your',\n",
       " 'yours',\n",
       " 'yourself',\n",
       " 'yourselves']"
      ]
     },
     "execution_count": 4,
     "metadata": {},
     "output_type": "execute_result"
    }
   ],
   "source": [
    "sorted(stopWords)"
   ]
  },
  {
   "cell_type": "markdown",
   "metadata": {},
   "source": [
    "## SimplePreprocessor"
   ]
  },
  {
   "cell_type": "markdown",
   "metadata": {},
   "source": [
    "### Tokenizer"
   ]
  },
  {
   "cell_type": "markdown",
   "metadata": {},
   "source": [
    "To perform tokenization without lemmatization, it is more efficient to call the SimplePreprocessor's tokenizer directly, without using the class itself."
   ]
  },
  {
   "cell_type": "code",
   "execution_count": 5,
   "metadata": {},
   "outputs": [],
   "source": [
    "import regex as re\n",
    "import html\n",
    "def tokenize(inputStr):\n",
    "    \"\"\"\n",
    "    Split a string into tokens.\n",
    "    Splits on whitespace and punctuation: punctuation is retained, but whitespace\n",
    "    is removed.\n",
    "    :param inputStr:\n",
    "    :return: a list of strings\n",
    "    \"\"\"\n",
    "    inputStr = html.unescape(inputStr)\n",
    "\n",
    "    # This regex has four disjunctive elements separated by the '|' character.\n",
    "    # The first captures multi-character abbreviations (like 'Corp.') beginning\n",
    "    # with uppercase characters and will not work if input is lowercased.\n",
    "    # The second will capture lowercased abbreviations, but only if each\n",
    "    # character is followed by a period (as in 'u.s.a.').\n",
    "    # The third element captures \"normal\" words.\n",
    "    # The fourth element captures all-punctuation strings (i.e. not word\n",
    "    # character and not space).\n",
    "    tokens = re.findall(r'(?:[A-Z][a-z]?[a-z]?[a-z]?\\.)+|(?:[a-z]\\.)+|\\w+|[^\\w\\s]+', inputStr)\n",
    "\n",
    "    return tokens"
   ]
  },
  {
   "cell_type": "markdown",
   "metadata": {},
   "source": [
    "A simple example:"
   ]
  },
  {
   "cell_type": "code",
   "execution_count": 6,
   "metadata": {},
   "outputs": [
    {
     "data": {
      "text/plain": [
       "['My',\n",
       " 'mother',\n",
       " \"'\",\n",
       " 's',\n",
       " 'phone',\n",
       " 'number',\n",
       " 'is',\n",
       " '973',\n",
       " '-',\n",
       " '998',\n",
       " '-',\n",
       " '1212',\n",
       " '.']"
      ]
     },
     "execution_count": 6,
     "metadata": {},
     "output_type": "execute_result"
    }
   ],
   "source": [
    "inputStr = \"My\\nmother's phone number is\\t973-\\n998-1212.\"\n",
    "tokens = tokenize(inputStr)\n",
    "tokens"
   ]
  },
  {
   "cell_type": "markdown",
   "metadata": {},
   "source": [
    "Notice that the sentence-final period is detached from the last token."
   ]
  },
  {
   "cell_type": "markdown",
   "metadata": {},
   "source": [
    "**Abbreviations**\n",
    "\n",
    "Here's a demonstration of how the function tokenizes abbreviations. Notice that, unlike the example above, the sentence-final period is attached to the final token."
   ]
  },
  {
   "cell_type": "code",
   "execution_count": 7,
   "metadata": {},
   "outputs": [
    {
     "data": {
      "text/plain": [
       "['Maria',\n",
       " 'M.',\n",
       " 'Cairoli',\n",
       " ',',\n",
       " 'Ph.D.',\n",
       " 'lives',\n",
       " 'in',\n",
       " 'the',\n",
       " 'NYC',\n",
       " 'area',\n",
       " 'of',\n",
       " 'the',\n",
       " 'U.S.A.',\n",
       " ',',\n",
       " 'and',\n",
       " 'works',\n",
       " 'for',\n",
       " 'IBM',\n",
       " ',',\n",
       " 'Corp.']"
      ]
     },
     "execution_count": 7,
     "metadata": {},
     "output_type": "execute_result"
    }
   ],
   "source": [
    "inputStr = \"Maria M. Cairoli, Ph.D. lives in the NYC area of the U.S.A., \"\n",
    "inputStr += \"and works for IBM, Corp.\"\n",
    "tokens = tokenize(inputStr)\n",
    "tokens"
   ]
  },
  {
   "cell_type": "markdown",
   "metadata": {},
   "source": [
    "In fact, anytime the sentence-final period follows any short, capitalized alpha string, the two will be returned as a single token, under the assumption that they form an abbreviation. Compare the final word of the three sentences below."
   ]
  },
  {
   "cell_type": "code",
   "execution_count": 8,
   "metadata": {},
   "outputs": [
    {
     "data": {
      "text/plain": [
       "['She',\n",
       " 'works',\n",
       " 'in',\n",
       " 'an',\n",
       " 'office',\n",
       " '.',\n",
       " 'The',\n",
       " 'office',\n",
       " 'is',\n",
       " 'in',\n",
       " 'Rome.',\n",
       " 'It',\n",
       " 'used',\n",
       " 'to',\n",
       " 'be',\n",
       " 'in',\n",
       " 'Sicily',\n",
       " '.']"
      ]
     },
     "execution_count": 8,
     "metadata": {},
     "output_type": "execute_result"
    }
   ],
   "source": [
    "inputStr = \"She works in an office. The office is in Rome. It used to be in Sicily.\"\n",
    "tokens = tokenize(inputStr)\n",
    "tokens"
   ]
  },
  {
   "cell_type": "markdown",
   "metadata": {},
   "source": [
    "Tokenization of abbreviations works best when the abbreviations are cased normally (as in *Inc.* rather than *inc.*). If you need lowercased tokens, then lowercase after tokenization.\n",
    "\n",
    "If tokenizer input must be lowercased, then be aware that abbreviations will be split up if the letter is not immediately followed by a period. (Compare the 'ph' and the 'd' of *ph.d.* below. The first loses the period, while the second retains it.)"
   ]
  },
  {
   "cell_type": "code",
   "execution_count": 9,
   "metadata": {},
   "outputs": [
    {
     "data": {
      "text/plain": [
       "['maria',\n",
       " 'm.',\n",
       " 'cairoli',\n",
       " ',',\n",
       " 'ph',\n",
       " '.',\n",
       " 'd.',\n",
       " 'lives',\n",
       " 'in',\n",
       " 'the',\n",
       " 'nyc',\n",
       " 'area',\n",
       " 'of',\n",
       " 'the',\n",
       " 'u.s.',\n",
       " ',',\n",
       " 'and',\n",
       " 'works',\n",
       " 'for',\n",
       " 'ibm',\n",
       " ',',\n",
       " 'corp',\n",
       " '.']"
      ]
     },
     "execution_count": 9,
     "metadata": {},
     "output_type": "execute_result"
    }
   ],
   "source": [
    "inputStr = \"maria m. cairoli, ph.d. lives in the nyc area of the u.s., \"\n",
    "inputStr += \"and works for ibm, corp.\"\n",
    "tokens = tokenize(inputStr)\n",
    "tokens"
   ]
  },
  {
   "cell_type": "markdown",
   "metadata": {},
   "source": [
    "Finally, note that the tokenizer mistakes a sentence-final one-character word for an abbreviation, as you can see from the fact that the period is adjoined to it."
   ]
  },
  {
   "cell_type": "code",
   "execution_count": 10,
   "metadata": {},
   "outputs": [
    {
     "data": {
      "text/plain": [
       "['He', \"'\", 's', 'smarter', 'than', 'I.']"
      ]
     },
     "execution_count": 10,
     "metadata": {},
     "output_type": "execute_result"
    }
   ],
   "source": [
    "inputStr = \"He's smarter than I.\"\n",
    "tokens = tokenize(inputStr)\n",
    "tokens"
   ]
  },
  {
   "cell_type": "markdown",
   "metadata": {},
   "source": [
    "**Punctuation**\n",
    "\n",
    "It was decided that the tokenizer should return all punctuation rather than eliminate it. This is accomplished via the fourth disjunctive element in the regex `r'(?:[A-Z][a-z]?[a-z]?[a-z]?\\.)+|(?:[a-z]\\.)+|\\w+|[^\\w\\s]+'`.\n",
    "\n",
    "The next code cell demonstrates what the output would look like without the last disjunctive element. You see that punctuation is not returned, but note that abbreviations are not affected."
   ]
  },
  {
   "cell_type": "code",
   "execution_count": 11,
   "metadata": {},
   "outputs": [
    {
     "data": {
      "text/plain": [
       "['Maria',\n",
       " 'M.',\n",
       " 'Cairoli',\n",
       " 'Ph.D.',\n",
       " 'lives',\n",
       " 'in',\n",
       " 'the',\n",
       " 'NYC',\n",
       " 'area',\n",
       " 'of',\n",
       " 'the',\n",
       " 'U.S.A.',\n",
       " 'and',\n",
       " 'works',\n",
       " 'for',\n",
       " 'IBM',\n",
       " 'Corp.']"
      ]
     },
     "execution_count": 11,
     "metadata": {},
     "output_type": "execute_result"
    }
   ],
   "source": [
    "inputStr = \"Maria M. Cairoli, Ph.D. lives in the NYC area of the U.S.A., \"\n",
    "inputStr += \"and works for IBM, Corp.\"\n",
    "tokens = re.findall(r'(?:[A-Z][a-z]?[a-z]?[a-z]?\\.)+|(?:[a-z]\\.)+|\\w+', inputStr)\n",
    "tokens"
   ]
  },
  {
   "cell_type": "markdown",
   "metadata": {},
   "source": [
    "The tokenizer's approach regarding punctuation allows us to keep ellipses and double-hyphens together."
   ]
  },
  {
   "cell_type": "code",
   "execution_count": 12,
   "metadata": {},
   "outputs": [
    {
     "data": {
      "text/plain": [
       "['The',\n",
       " 'bullet',\n",
       " '-',\n",
       " 'train',\n",
       " 'is',\n",
       " 'fast',\n",
       " '--',\n",
       " 'I',\n",
       " 'mean',\n",
       " 'really',\n",
       " 'fast',\n",
       " '...']"
      ]
     },
     "execution_count": 12,
     "metadata": {},
     "output_type": "execute_result"
    }
   ],
   "source": [
    "inputStr = \"The bullet-train is fast--I mean really fast...\"\n",
    "tokens = tokenize(inputStr)\n",
    "tokens"
   ]
  },
  {
   "cell_type": "markdown",
   "metadata": {},
   "source": [
    "But this behavior does output some 'tokens' that may come as a surprise."
   ]
  },
  {
   "cell_type": "code",
   "execution_count": 13,
   "metadata": {},
   "outputs": [
    {
     "data": {
      "text/plain": [
       "['At',\n",
       " 'my',\n",
       " '#$%&!',\n",
       " 'parents',\n",
       " '\\',\"',\n",
       " 'he',\n",
       " 'said',\n",
       " '.',\n",
       " '\"',\n",
       " 'Where',\n",
       " 'are',\n",
       " 'they',\n",
       " '?\"',\n",
       " 'she',\n",
       " 'asked']"
      ]
     },
     "execution_count": 13,
     "metadata": {},
     "output_type": "execute_result"
    }
   ],
   "source": [
    "inputStr = \"At my #$%&! parents',\\\" he said. \"\n",
    "inputStr += '\"Where are they?\" she asked'\n",
    "tokens = tokenize(inputStr)\n",
    "tokens"
   ]
  },
  {
   "cell_type": "markdown",
   "metadata": {},
   "source": [
    "### SimplePreprocessor\n",
    "\n",
    "If you need more than simple tokenization&mdash;for example, if you need stop word removal or lemmatization&mdash;then use SimplePreprocessor."
   ]
  },
  {
   "cell_type": "code",
   "execution_count": 14,
   "metadata": {},
   "outputs": [],
   "source": [
    "from nltk import WordNetLemmatizer\n",
    "\n",
    "class SimplePreprocessor(object):\n",
    "    \"\"\"\"\"\"\n",
    "\n",
    "    lm = WordNetLemmatizer()\n",
    "    \n",
    "    stopWords = generateStopWords()\n",
    "\n",
    "    def __init__(self, stopWordList=stopWords, minTokenLen=2):\n",
    "        \"\"\"\n",
    "        Initialize the class with a stop word list and a minimum token length.\n",
    "        :param stopWordList: a set of strings\n",
    "        :param minTokenLen: filter out tokens having a length shorter than this\n",
    "        \"\"\"\n",
    "        self.stopWordList = stopWordList\n",
    "        self.minTokenLen = minTokenLen\n",
    "\n",
    "    def process(self, inStr):\n",
    "        \"\"\"\n",
    "        Lowercase the input, then perform tokenization and lemmatization. Filter\n",
    "        out stop words and words shorter than the min token length.\n",
    "        :param inStr:\n",
    "        :return:\n",
    "        \"\"\"\n",
    "        inStr = inStr.lower()\n",
    "\n",
    "        tokens = tokenize(inStr)\n",
    "\n",
    "        result = [self.lm.lemmatize(token) for token in tokens\n",
    "                  if token not in self.stopWordList and len(token) >= self.minTokenLen]\n",
    "\n",
    "        return result\n"
   ]
  },
  {
   "cell_type": "markdown",
   "metadata": {},
   "source": [
    "A simple example, using the constructor's default `minTokenLen`."
   ]
  },
  {
   "cell_type": "code",
   "execution_count": 15,
   "metadata": {},
   "outputs": [
    {
     "data": {
      "text/plain": [
       "['mother', 'phone', 'number', '973', '998', '1212']"
      ]
     },
     "execution_count": 15,
     "metadata": {},
     "output_type": "execute_result"
    }
   ],
   "source": [
    "inputStr = \"My\\nmother's phone number is\\t973-\\n998-1212.\"\n",
    "processor = SimplePreprocessor()\n",
    "tokens = processor.process(inputStr)\n",
    "tokens"
   ]
  },
  {
   "cell_type": "markdown",
   "metadata": {},
   "source": [
    "The same input, with `minTokenLen` set to 1."
   ]
  },
  {
   "cell_type": "code",
   "execution_count": 16,
   "metadata": {},
   "outputs": [
    {
     "data": {
      "text/plain": [
       "['mother', \"'\", 'phone', 'number', '973', '-', '998', '-', '1212', '.']"
      ]
     },
     "execution_count": 16,
     "metadata": {},
     "output_type": "execute_result"
    }
   ],
   "source": [
    "inputStr = \"My\\nmother's phone number is\\t973-\\n998-1212.\"\n",
    "processor = SimplePreprocessor(minTokenLen=1)\n",
    "tokens = processor.process(inputStr)\n",
    "tokens"
   ]
  },
  {
   "cell_type": "markdown",
   "metadata": {},
   "source": [
    "If you decide you want one-character tokens, then you may need to add many of them to your stop words. (Here's an example of how a stop word list and preprocessing can get out-of-synch&mdash;discussed above in the \"Stop words\" section.) "
   ]
  },
  {
   "cell_type": "markdown",
   "metadata": {},
   "source": [
    "## Runtime notes\n",
    "\n",
    "This section performs a runtime experiment meant to explore the following question:\n",
    "- How does SimplePreprocessor's runtime compare to that of the sklearn CountVectorizer class?"
   ]
  },
  {
   "cell_type": "markdown",
   "metadata": {},
   "source": [
    "Both SimplePreprocessor and its sister class, EnhancedPreprocessor, were inspired by a number of experiments comparing one set of preprocessing techniques to sklearn's CountVectorizer. In those experiments, the fastest preprocessor by far was sklearn's.\n",
    "\n",
    "Here we compare the runtime of SimplePreprocessor with that of the sklearn approach which helped motivate it.\n",
    "\n",
    "These tests involved performing preprocessing on 2000 Imdb movie reviews. In this notebook we do not actually perform the runtime tests; rather, we pool the results together to draw conclusions.\n",
    "\n",
    "The tests were performed on two different computers, a fairly old Mac Workbook Pro, and a Dell PC Running Linux. In the code below, variables, etc. are likely to refer to these with the strings *BoxM* and *BoxL* respectively."
   ]
  },
  {
   "cell_type": "markdown",
   "metadata": {},
   "source": [
    "### Function for bar chart display"
   ]
  },
  {
   "cell_type": "markdown",
   "metadata": {},
   "source": [
    "First we have to put in some code to display our results with matplotlib."
   ]
  },
  {
   "cell_type": "code",
   "execution_count": 17,
   "metadata": {},
   "outputs": [],
   "source": [
    "from statistics import mean"
   ]
  },
  {
   "cell_type": "code",
   "execution_count": 18,
   "metadata": {},
   "outputs": [],
   "source": [
    "import matplotlib.pyplot as plt\n",
    "import numpy as np\n",
    "from matplotlib.ticker import MaxNLocator\n",
    "%matplotlib inline\n",
    "\n",
    "def plot_bar_chart(title, runtimeDict, x_axis_range, x_axis_label):\n",
    "    \"\"\"\n",
    "    title: string; title of bar chart\n",
    "    runtimeDict: dictionary; keys are strings identifying each \n",
    "    bar in the chart and values are floats \n",
    "    x_axis_range: two-digit list where the first is less than the \n",
    "    second, e.g. (0, 20); range of x-axis\n",
    "    x_axis_label: string; label of x-axis\n",
    "    \"\"\"\n",
    "    plt.rcdefaults()\n",
    "    fig, ax = plt.subplots(figsize=(5, 3))\n",
    "\n",
    "    approaches = runtimeDict.keys()\n",
    "    y_pos = np.arange(len(approaches))\n",
    "    runtimes = np.asarray(list(runtimeDict.values()))\n",
    "\n",
    "    # Set horizontal range here.\n",
    "    ax.set_xlim(x_axis_range)\n",
    "    ax.xaxis.set_major_locator(MaxNLocator(7))\n",
    "    ax.xaxis.grid(True, linestyle='--', which='major',\n",
    "                       color='grey', alpha=.25)\n",
    "\n",
    "    rects = ax.barh(y_pos, runtimes, xerr=None, align='center', color='green')\n",
    "\n",
    "    ax.set_yticks(y_pos)\n",
    "    ax.set_yticklabels(approaches)\n",
    "    ax.invert_yaxis()  # labels read top-to-bottom\n",
    "    ax.set_xlabel(x_axis_label)\n",
    "    ax.set_title(title)\n",
    "\n",
    "    rect_labels = []\n",
    "    # Lastly, write in the ranking inside each bar to aid in interpretation\n",
    "    for idx, rect in enumerate(rects):\n",
    "        # Rectangle widths are already integer-valued but are floating\n",
    "        # type, so it helps to remove the trailing decimal point and 0 by\n",
    "        # converting width to int type\n",
    "        width = int(rect.get_width())\n",
    "\n",
    "        rankStr = runtimes[idx]\n",
    "        # The bars aren't wide enough to print the ranking inside\n",
    "        if width < 5:\n",
    "            # Shift the text to the right side of the right edge\n",
    "            xloc = width + 1\n",
    "            # Black against white background\n",
    "            clr = 'black'\n",
    "            align = 'left'\n",
    "        else:\n",
    "            # Shift the text to the left side of the right edge\n",
    "            xloc = 0.98*width\n",
    "            # White on magenta\n",
    "            clr = 'white'\n",
    "            align = 'right'\n",
    "\n",
    "        # Center the text vertically in the bar\n",
    "        yloc = rect.get_y() + rect.get_height()/2.0\n",
    "        label = ax.text(xloc, yloc, rankStr, horizontalalignment=align,\n",
    "                         verticalalignment='center', color=clr, weight='bold',\n",
    "                         clip_on=True)\n",
    "        rect_labels.append(label)\n"
   ]
  },
  {
   "cell_type": "markdown",
   "metadata": {},
   "source": [
    "### Tests"
   ]
  },
  {
   "cell_type": "code",
   "execution_count": 19,
   "metadata": {},
   "outputs": [
    {
     "name": "stdout",
     "output_type": "stream",
     "text": [
      "SimplePreprocessor on Box M: 14.0\n",
      "sklearn on Box M: 14.16\n"
     ]
    }
   ],
   "source": [
    "# Running SimplePreprocessor on the Mac.\n",
    "simpleProcBoxM = [13.6, 13.7, 14.6, 14.5, 13.8, 14.0, 13.8]\n",
    "simpleProcBoxMMean = round(mean(simpleProcBoxM), 2)\n",
    "print(\"SimplePreprocessor on Box M: %s\" % round(simpleProcBoxMMean, 2))\n",
    "\n",
    "# Running sklearn on the Mac.\n",
    "sklearnBoxM = [13.9, 13.9, 14.4, 14.7, 14.2, 14.0, 14.0]\n",
    "sklearnBoxMMean = mean(sklearnBoxM)\n",
    "print(\"sklearn on Box M: %s\" % round(sklearnBoxMMean, 2))\n"
   ]
  },
  {
   "cell_type": "code",
   "execution_count": 20,
   "metadata": {},
   "outputs": [
    {
     "name": "stdout",
     "output_type": "stream",
     "text": [
      "SimplePreprocessor on Box L: 6.89\n",
      "sklearn on Box L: 6.63\n"
     ]
    }
   ],
   "source": [
    "# Running SimplePreprocessor on the Linux machine.\n",
    "simpleProcBoxL = [7.0, 7.1, 6.9, 7.0, 6.8, 6.9, 7.0, 7.0, 6.8, 6.6, 6.7]\n",
    "simpleProcBoxLMean = round(mean(simpleProcBoxL), 2)\n",
    "print(\"SimplePreprocessor on Box L: %s\" % round(simpleProcBoxLMean, 2))\n",
    "\n",
    "# Running sklearn on the Linux machine.\n",
    "sklearnBoxL = [6.6, 6.6, 6.8, 6.6, 6.8, 6.7, 6.6, 6.7, 6.5, 6.5, 6.5]\n",
    "sklearnBoxLMean = mean(sklearnBoxL)\n",
    "print(\"sklearn on Box L: %s\" % round(sklearnBoxLMean, 2))\n"
   ]
  },
  {
   "cell_type": "code",
   "execution_count": 21,
   "metadata": {},
   "outputs": [
    {
     "data": {
      "image/png": "[encoded data removed]",
      "text/plain": [
       "<Figure size 500x300 with 1 Axes>"
      ]
     },
     "metadata": {},
     "output_type": "display_data"
    },
    {
     "data": {
      "image/png": "[encoded data removed]",
      "text/plain": [
       "<Figure size 500x300 with 1 Axes>"
      ]
     },
     "metadata": {},
     "output_type": "display_data"
    }
   ],
   "source": [
    "runtimeDict = {'SimplePreprocessor': round(simpleProcBoxMMean, 2), \n",
    "               'sklearn': round(sklearnBoxMMean, 2)}\n",
    "plot_bar_chart('Runtimes for Mac', runtimeDict, [0, 20], 'Runtimes (sec)')\n",
    "\n",
    "runtimeDict = {'SimplePreprocessor': round(simpleProcBoxLMean, 2), \n",
    "               'sklearn': round(sklearnBoxLMean, 2)}\n",
    "plot_bar_chart('Runtimes for Linux', runtimeDict, [0, 20], 'Runtimes (sec)')\n",
    "\n",
    "# plt.show()"
   ]
  },
  {
   "cell_type": "markdown",
   "metadata": {},
   "source": [
    "#### Conclusion\n",
    "\n",
    "On the Mac, SimplePreprocessor ran slightly faster than CountVectorizer. On the Linux machine, the reverse was true. So we can conclude that their runtime costs are the same."
   ]
  },
  {
   "cell_type": "code",
   "execution_count": null,
   "metadata": {},
   "outputs": [],
   "source": []
  }
 ],
 "metadata": {
  "kernelspec": {
   "display_name": "Python 3",
   "language": "python",
   "name": "python3"
  },
  "language_info": {
   "codemirror_mode": {
    "name": "ipython",
    "version": 3
   },
   "file_extension": ".py",
   "mimetype": "text/x-python",
   "name": "python",
   "nbconvert_exporter": "python",
   "pygments_lexer": "ipython3",
   "version": "3.6.5"
  },
  "toc": {
   "base_numbering": 1,
   "nav_menu": {},
   "number_sections": true,
   "sideBar": true,
   "skip_h1_title": true,
   "title_cell": "Table of Contents",
   "title_sidebar": "Contents",
   "toc_cell": false,
   "toc_position": {
    "height": "calc(100% - 180px)",
    "left": "10px",
    "top": "150px",
    "width": "239.1875px"
   },
   "toc_section_display": true,
   "toc_window_display": true
  }
 },
 "nbformat": 4,
 "nbformat_minor": 2
}
